{
 "cells": [
  {
   "cell_type": "code",
   "execution_count": 5,
   "id": "79e3e3f0-e2de-4d91-b05b-eb0bcb51d499",
   "metadata": {
    "scrolled": true
   },
   "outputs": [
    {
     "name": "stdout",
     "output_type": "stream",
     "text": [
      "Collecting faker\n",
      "  Downloading faker-37.0.0-py3-none-any.whl.metadata (15 kB)\n",
      "Requirement already satisfied: tzdata in c:\\users\\patriciasantos\\appdata\\local\\anaconda3\\lib\\site-packages (from faker) (2023.3)\n",
      "Downloading faker-37.0.0-py3-none-any.whl (1.9 MB)\n",
      "   ---------------------------------------- 0.0/1.9 MB ? eta -:--:--\n",
      "   -- ------------------------------------- 0.1/1.9 MB 4.3 MB/s eta 0:00:01\n",
      "   ------------ --------------------------- 0.6/1.9 MB 6.1 MB/s eta 0:00:01\n",
      "   ----------------------------- ---------- 1.4/1.9 MB 10.1 MB/s eta 0:00:01\n",
      "   ---------------------------------------  1.9/1.9 MB 11.1 MB/s eta 0:00:01\n",
      "   ---------------------------------------- 1.9/1.9 MB 9.4 MB/s eta 0:00:00\n",
      "Installing collected packages: faker\n",
      "Successfully installed faker-37.0.0\n",
      "Note: you may need to restart the kernel to use updated packages.\n"
     ]
    }
   ],
   "source": [
    "pip install faker"
   ]
  },
  {
   "cell_type": "code",
   "execution_count": null,
   "id": "bf03212f-0393-4bd3-a4fb-079a3ea79e02",
   "metadata": {},
   "outputs": [],
   "source": [
    "regionais = [\"Norte\", \"Sul\", \"Leste\", \"Oeste\", \"Centro\"]\n",
    "unidades = [\"Unidade A\", \"Unidade B\", \"Unidade C\", \"Unidade D\", \"Unidade E\"]\n",
    "\n",
    "num_registros = 100\n"
   ]
  },
  {
   "cell_type": "code",
   "execution_count": 9,
   "id": "aefbbb37-67ff-4eb7-b5d8-95f06220bd5c",
   "metadata": {},
   "outputs": [
    {
     "name": "stdout",
     "output_type": "stream",
     "text": [
      "  REGIONAL    UNIDADE  VOLUME     TOTAL         CLIENTE  \\\n",
      "0      Sul  Unidade B      79   3071.92         Fonseca   \n",
      "1    Leste  Unidade B     151  48978.85           Moura   \n",
      "2   Centro  Unidade A      84  19894.35        Ferreira   \n",
      "3   Centro  Unidade A     156  21424.11           Cunha   \n",
      "4   Centro  Unidade E      18  47990.65  da Cunha Ltda.   \n",
      "\n",
      "                 MUNICIPIO        DATA  \n",
      "0             Pires Alegre  2025-01-15  \n",
      "1  Aparecida de Nascimento  2024-10-24  \n",
      "2             Alves Alegre  2025-01-25  \n",
      "3                    Jesus  2024-03-14  \n",
      "4                   Barros  2024-10-08  \n"
     ]
    }
   ],
   "source": [
    "dados = [\n",
    "    [\n",
    "        random.choice(regionais),  \n",
    "        random.choice(unidades),   \n",
    "        random.randint(10, 500),  \n",
    "        round(random.uniform(1000, 50000), 2), \n",
    "        fake.company(),             \n",
    "        fake.city(),                \n",
    "        fake.date_between(start_date=\"-1y\", end_date=\"today\") \n",
    "    ]\n",
    "    for _ in range(num_registros)\n",
    "]\n",
    "\n",
    "colunas = [\"REGIONAL\", \"UNIDADE\", \"VOLUME\", \"TOTAL\", \"CLIENTE\", \"MUNICIPIO\", \"DATA\"]\n",
    "df = pd.DataFrame(dados, columns=colunas)\n",
    "\n"
   ]
  },
  {
   "cell_type": "code",
   "execution_count": null,
   "id": "8692fd95-3eed-4738-a288-f4fa693ba307",
   "metadata": {},
   "outputs": [],
   "source": [
    "df.to_csv(r\"C:\\Users\\PATRICIASANTOS\\Downloads\\dados_ficticios_powerbi.csv\", index=False, sep=\";\")\n",
    "print(df.head())  "
   ]
  }
 ],
 "metadata": {
  "kernelspec": {
   "display_name": "Python 3 (ipykernel)",
   "language": "python",
   "name": "python3"
  },
  "language_info": {
   "codemirror_mode": {
    "name": "ipython",
    "version": 3
   },
   "file_extension": ".py",
   "mimetype": "text/x-python",
   "name": "python",
   "nbconvert_exporter": "python",
   "pygments_lexer": "ipython3",
   "version": "3.12.4"
  }
 },
 "nbformat": 4,
 "nbformat_minor": 5
}
